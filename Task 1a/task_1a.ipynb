{
 "cells": [
  {
   "cell_type": "markdown",
   "id": "58b9171f",
   "metadata": {},
   "source": [
    "# Task 1a"
   ]
  },
  {
   "cell_type": "markdown",
   "id": "59bdb055",
   "metadata": {},
   "source": [
    "### Description"
   ]
  },
  {
   "cell_type": "markdown",
   "id": "322ff82e",
   "metadata": {},
   "source": [
    "In order to compare the different lambdas via cross validation, we used GridSearchCV and Ridge from sci-kit learn. This allowed us to specify the parameters of the estimator using the param_grid parameter, the RMSE score using the scoring parameter, as well as the folds using the cv parameter of GridSearchCV. Furthermore, we used pandas dataframes to handle the data."
   ]
  },
  {
   "cell_type": "markdown",
   "id": "comfortable-burns",
   "metadata": {},
   "source": [
    "### Main"
   ]
  },
  {
   "cell_type": "code",
   "execution_count": 1,
   "id": "covered-milton",
   "metadata": {},
   "outputs": [],
   "source": [
    "# Import packages\n",
    "import pandas as pd\n",
    "from sklearn.linear_model import Ridge\n",
    "from sklearn.model_selection import GridSearchCV"
   ]
  },
  {
   "cell_type": "code",
   "execution_count": 2,
   "id": "improving-portsmouth",
   "metadata": {},
   "outputs": [],
   "source": [
    "# Specify path to train.csv\n",
    "path = '/Users/gian-andreagottini/Documents/Coding/Introduction to Machine Learning/Task 1a/train.csv'"
   ]
  },
  {
   "cell_type": "code",
   "execution_count": 3,
   "id": "raised-eagle",
   "metadata": {},
   "outputs": [],
   "source": [
    "# Define features X_train and target y_train\n",
    "train = pd.read_csv(path)\n",
    "\n",
    "# Lists: round brackets, fixed values\n",
    "# Arrays: square brackets, changing values\n",
    "# Dictionaries: curly brackets\n",
    "\n",
    "# Capital letter = matrix = X_train\n",
    "X_train = train[['x1', 'x2', 'x3', 'x4', 'x5', 'x6', 'x7', 'x8', 'x9', 'x10', 'x11', 'x12', 'x13']]\n",
    "\n",
    "# Small letter = vector = y_train\n",
    "y_train = train['y']"
   ]
  },
  {
   "cell_type": "code",
   "execution_count": 4,
   "id": "extended-portland",
   "metadata": {},
   "outputs": [],
   "source": [
    "# Define number of folds (=k) for k-fold cross-validation \n",
    "folds = 10\n",
    "\n",
    "# Define regularization parameter (defines how strong the effect (=damping) is)\n",
    "lambdas = (0.1, 1, 10, 100, 200)\n",
    "\n",
    "# Predefined hyperparameters that will be passed to the GridSearchCV function\n",
    "# GridSearchCV takes only dictionnaries named 'alpha' (if another name is taken, code throws an error later)\n",
    "# In sklearn syntax 'alpha' = 'lambda' for ridge regression\n",
    "parameters = {'alpha': lambdas}"
   ]
  },
  {
   "cell_type": "code",
   "execution_count": 5,
   "id": "animated-cleveland",
   "metadata": {},
   "outputs": [],
   "source": [
    "# Define model\n",
    "# GridSearchCV makes it possible to compare multiple parameters\n",
    "model = GridSearchCV(Ridge(), # Estimator\n",
    "                     # GridSearchCV compares all parameters available in param_grid\n",
    "                     param_grid = parameters, # Hyperparamters\n",
    "                     scoring = 'neg_root_mean_squared_error', # Evaluation metric (only negative RMSE available)\n",
    "                     cv = folds, # Number of folds\n",
    "                     return_train_score = True)"
   ]
  },
  {
   "cell_type": "code",
   "execution_count": 6,
   "id": "differential-democracy",
   "metadata": {},
   "outputs": [
    {
     "data": {
      "text/plain": [
       "dict_keys(['alpha', 'copy_X', 'fit_intercept', 'max_iter', 'normalize', 'random_state', 'solver', 'tol'])"
      ]
     },
     "execution_count": 6,
     "metadata": {},
     "output_type": "execute_result"
    }
   ],
   "source": [
    "# Get parameters\n",
    "Ridge().get_params().keys()"
   ]
  },
  {
   "cell_type": "code",
   "execution_count": 7,
   "id": "catholic-object",
   "metadata": {},
   "outputs": [
    {
     "data": {
      "text/plain": [
       "GridSearchCV(cv=10, estimator=Ridge(),\n",
       "             param_grid={'alpha': (0.1, 1, 10, 100, 200)},\n",
       "             return_train_score=True, scoring='neg_root_mean_squared_error')"
      ]
     },
     "execution_count": 7,
     "metadata": {},
     "output_type": "execute_result"
    }
   ],
   "source": [
    "# Fit model\n",
    "model.fit(X_train, y_train)"
   ]
  },
  {
   "cell_type": "code",
   "execution_count": 8,
   "id": "affected-spencer",
   "metadata": {},
   "outputs": [
    {
     "data": {
      "text/plain": [
       "array([5.50180945, 5.49983874, 5.48363149, 5.63664214, 5.72123372])"
      ]
     },
     "execution_count": 8,
     "metadata": {},
     "output_type": "execute_result"
    }
   ],
   "source": [
    "# Calculate root-mean-square error (RMSE)\n",
    "# GridSearchCV calculates multiple values (e.g. mean_fit_time) and stores them in cv_results_\n",
    "# We are only interested in mean_test_score, wich is why we only store this value in RMSE.\n",
    "# Minus is needed to cancel out the minus from neg_root_mean_squared_error\n",
    "RMSE = -model.cv_results_['mean_test_score']\n",
    "\n",
    "# Display array\n",
    "RMSE"
   ]
  },
  {
   "cell_type": "code",
   "execution_count": 9,
   "id": "collaborative-corps",
   "metadata": {},
   "outputs": [],
   "source": [
    "# Create pandas dataframe\n",
    "solution = pd.DataFrame(RMSE)\n",
    "\n",
    "# Export results\n",
    "solution.to_csv('solution.csv', index = False, header = False)"
   ]
  }
 ],
 "metadata": {
  "kernelspec": {
   "display_name": "Python 3 (ipykernel)",
   "language": "python",
   "name": "python3"
  },
  "language_info": {
   "codemirror_mode": {
    "name": "ipython",
    "version": 3
   },
   "file_extension": ".py",
   "mimetype": "text/x-python",
   "name": "python",
   "nbconvert_exporter": "python",
   "pygments_lexer": "ipython3",
   "version": "3.9.7"
  }
 },
 "nbformat": 4,
 "nbformat_minor": 5
}
