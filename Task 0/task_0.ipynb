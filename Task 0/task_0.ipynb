{
 "cells": [
  {
   "cell_type": "markdown",
   "metadata": {},
   "source": [
    "# Task 0"
   ]
  },
  {
   "cell_type": "markdown",
   "metadata": {},
   "source": [
    "### Main"
   ]
  },
  {
   "cell_type": "code",
   "execution_count": 1,
   "metadata": {},
   "outputs": [],
   "source": [
    "import pandas as pd # Create shortcut 'pd' for later use\n",
    "from sklearn.metrics import mean_squared_error\n",
    "from sklearn.linear_model import LinearRegression"
   ]
  },
  {
   "cell_type": "code",
   "execution_count": 2,
   "metadata": {},
   "outputs": [],
   "source": [
    "# pd.read_csv('file_path') imports data from csv files\n",
    "# pd.astype('data_type') defines the data type\n",
    "train_data = pd.read_csv('/Users/gian-andreagottini/Documents/Coding/Introduction to Machine Learning/Task 0/train.csv').astype(float)\n",
    "test_data = pd.read_csv('/Users/gian-andreagottini/Documents/Coding/Introduction to Machine Learning/Task 0/test.csv').astype(float)\n",
    "sample = pd.read_csv('/Users/gian-andreagottini/Documents/Coding/Introduction to Machine Learning/Task 0/sample.csv').astype(float)"
   ]
  },
  {
   "cell_type": "code",
   "execution_count": 3,
   "metadata": {},
   "outputs": [],
   "source": [
    "# Split train data in features X_train and target y_train\n",
    "# Put argument in brackets and if argument contains multiple values use double brackets\n",
    "X_train = train_data[['x1', 'x2', 'x3', 'x4', 'x5', 'x6', 'x7', 'x8', 'x9', 'x10']]\n",
    "y_train = train_data['y']"
   ]
  },
  {
   "cell_type": "code",
   "execution_count": 4,
   "metadata": {},
   "outputs": [],
   "source": [
    "# Calculate y from test data using mean\n",
    "# .mean(axis=1) calculates mean of all values from axis=1\n",
    "# axis=1 means x-axis\n",
    "# axis=0 means y-axis\n",
    "y = test_data[['x1', 'x2', 'x3', 'x4', 'x5', 'x6', 'x7', 'x8', 'x9', 'x10']].mean(axis=1)"
   ]
  },
  {
   "cell_type": "code",
   "execution_count": 5,
   "metadata": {},
   "outputs": [],
   "source": [
    "# Create model with train data and apply it on test data\n",
    "# LinearRegression().fit(X_train, y_train) creates linear regression model using the train data\n",
    "pred = LinearRegression().fit(X_train, y_train)\n",
    "\n",
    "# pred.predict(test_data[argument]) applies trained model on test data\n",
    "y_pred = pred.predict(test_data[['x1', 'x2', 'x3', 'x4', 'x5', 'x6', 'x7', 'x8', 'x9', 'x10']])"
   ]
  },
  {
   "cell_type": "code",
   "execution_count": 6,
   "metadata": {},
   "outputs": [],
   "source": [
    "# Calculate RMSE between actual mean and results from model\n",
    "RMSE = mean_squared_error(y, y_pred)**0.5 # **0.5 = root"
   ]
  },
  {
   "cell_type": "code",
   "execution_count": 7,
   "metadata": {},
   "outputs": [],
   "source": [
    "# Fill sample csv with predicted y values\n",
    "sample['y'] = y_pred\n",
    "\n",
    "# Save solutions as csv file\n",
    "# .set_index('Id') delets default index and uses Id column as index\n",
    "# .to_csv(\"file_path\") creates new csv file\n",
    "sample.set_index('Id').to_csv('/Users/gian-andreagottini/Documents/Coding/Introduction to Machine Learning/Task 0/solution.csv')"
   ]
  }
 ],
 "metadata": {
  "kernelspec": {
   "display_name": "Python 3 (ipykernel)",
   "language": "python",
   "name": "python3"
  },
  "language_info": {
   "codemirror_mode": {
    "name": "ipython",
    "version": 3
   },
   "file_extension": ".py",
   "mimetype": "text/x-python",
   "name": "python",
   "nbconvert_exporter": "python",
   "pygments_lexer": "ipython3",
   "version": "3.9.7"
  }
 },
 "nbformat": 4,
 "nbformat_minor": 4
}
