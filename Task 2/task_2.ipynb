{
 "cells": [
  {
   "cell_type": "markdown",
   "id": "789d9797",
   "metadata": {},
   "source": [
    "# Task 2"
   ]
  },
  {
   "cell_type": "markdown",
   "id": "08917957",
   "metadata": {},
   "source": [
    "### Description"
   ]
  },
  {
   "cell_type": "markdown",
   "id": "57b8e1d2",
   "metadata": {},
   "source": [
    "We used pandas dataframes to import and handle the data. We then preprocessed the data (find the max measurements for each patient, set the pid as the index) and used make_pipeline from scikit-learn to impute the missing values before using a Random Forest Classifier/Regressor for the classification/regression task. In order to get a unique result for each test, we iterated through the respective tests for each subtask."
   ]
  },
  {
   "cell_type": "markdown",
   "id": "4c572761",
   "metadata": {},
   "source": [
    "### Main"
   ]
  },
  {
   "cell_type": "code",
   "execution_count": 1,
   "id": "9880ada9",
   "metadata": {},
   "outputs": [],
   "source": [
    "import pandas as pd\n",
    "import numpy as np\n",
    "from sklearn.pipeline import make_pipeline\n",
    "from sklearn.ensemble import RandomForestClassifier, RandomForestRegressor\n",
    "from sklearn.impute import SimpleImputer"
   ]
  },
  {
   "cell_type": "code",
   "execution_count": 2,
   "id": "449cb510",
   "metadata": {},
   "outputs": [],
   "source": [
    "# Set the value (100) of a single option (display.max_columns)\n",
    "pd.set_option('display.max_columns', 100)"
   ]
  },
  {
   "cell_type": "code",
   "execution_count": 3,
   "id": "5070a911",
   "metadata": {},
   "outputs": [],
   "source": [
    "# Specify the location of the project folder\n",
    "folder = '/Users/gian-andreagottini/Documents/Coding/Introduction to Machine Learning/Task 2/'"
   ]
  },
  {
   "cell_type": "code",
   "execution_count": 4,
   "id": "5d6b38e6",
   "metadata": {},
   "outputs": [],
   "source": [
    "# Import data\n",
    "train_data = pd.read_csv(folder + 'train_features.csv')\n",
    "test_data = pd.read_csv(folder + 'test_features.csv')\n",
    "train_labels = pd.read_csv(folder + 'train_labels.csv').set_index('pid').sort_index()"
   ]
  },
  {
   "cell_type": "code",
   "execution_count": 5,
   "id": "9eb69f84",
   "metadata": {},
   "outputs": [],
   "source": [
    "# Define function\n",
    "def preprocess_data(data):\n",
    "    data_df = data.drop(['Age', 'Time'], axis=1).groupby(by=['pid']).max()\n",
    "    data_df['Age'] = data[['pid', 'Age']].groupby(by=['pid']).mean('Age')\n",
    "    return data_df"
   ]
  },
  {
   "cell_type": "code",
   "execution_count": 6,
   "id": "328cf011",
   "metadata": {},
   "outputs": [],
   "source": [
    "# Define function\n",
    "def preprocess_labels(labels, cats):\n",
    "    labels_df = labels[cats]\n",
    "    return labels_df"
   ]
  },
  {
   "cell_type": "markdown",
   "id": "09a2526a",
   "metadata": {},
   "source": [
    "### Sub-Task 1"
   ]
  },
  {
   "cell_type": "code",
   "execution_count": 7,
   "id": "4c03e56e",
   "metadata": {},
   "outputs": [],
   "source": [
    "# Select relevant columns for task 1\n",
    "cats_task1 = ['LABEL_BaseExcess', 'LABEL_Fibrinogen', 'LABEL_AST','LABEL_Alkalinephos', 'LABEL_Bilirubin_total', 'LABEL_Lactate', 'LABEL_TroponinI', 'LABEL_SaO2', 'LABEL_Bilirubin_direct', 'LABEL_EtCO2']"
   ]
  },
  {
   "cell_type": "code",
   "execution_count": 8,
   "id": "54133b36",
   "metadata": {},
   "outputs": [],
   "source": [
    "train_df_task1 = preprocess_data(train_data)\n",
    "test_df_task1 = preprocess_data(test_data)\n",
    "labels_df_task1 = preprocess_labels(train_labels, cats_task1)"
   ]
  },
  {
   "cell_type": "code",
   "execution_count": 9,
   "id": "baa8bce0",
   "metadata": {},
   "outputs": [],
   "source": [
    "predictions = pd.DataFrame(index = test_df_task1.index, columns = train_labels.columns)"
   ]
  },
  {
   "cell_type": "code",
   "execution_count": 10,
   "id": "9c975d30",
   "metadata": {},
   "outputs": [],
   "source": [
    "# clf = classifier\n",
    "# make_pipeline = executes multiple operations in series\n",
    "# SimpleImputer() = fills empty values with avg values of its column\n",
    "# RandomForestClassifier() = decision tree\n",
    "clf = make_pipeline(SimpleImputer(), RandomForestClassifier())"
   ]
  },
  {
   "cell_type": "code",
   "execution_count": 11,
   "id": "4a6fa660",
   "metadata": {},
   "outputs": [],
   "source": [
    "# Fill columns of task 1 with probabilistic prediction values\n",
    "for i in range(len(cats_task1)):\n",
    "    clf.fit(train_df_task1, labels_df_task1[cats_task1[i]])\n",
    "    \n",
    "    # predict_proba = probability of specific value being 0 or 1\n",
    "    # [:, 1] drops second column of array (not needed)\n",
    "    probs_task1 = clf.predict_proba(test_df_task1)[:, 1]\n",
    "    predictions[cats_task1[i]] = probs_task1"
   ]
  },
  {
   "cell_type": "markdown",
   "id": "def843af",
   "metadata": {},
   "source": [
    "### Sub-Task 2 (dropped)"
   ]
  },
  {
   "cell_type": "markdown",
   "id": "26bef40c",
   "metadata": {},
   "source": [
    "### Sub-Task 3"
   ]
  },
  {
   "cell_type": "code",
   "execution_count": 12,
   "id": "a7157a74",
   "metadata": {},
   "outputs": [],
   "source": [
    "# Select relevant columns for task 3\n",
    "cats_task3 = ['LABEL_RRate', 'LABEL_ABPm', 'LABEL_SpO2', 'LABEL_Heartrate']"
   ]
  },
  {
   "cell_type": "code",
   "execution_count": 13,
   "id": "fe188d10",
   "metadata": {},
   "outputs": [],
   "source": [
    "train_df_task3 = preprocess_data(train_data)\n",
    "test_df_task3 = preprocess_data(test_data)\n",
    "labels_df_task3 = preprocess_labels(train_labels, cats_task3)"
   ]
  },
  {
   "cell_type": "code",
   "execution_count": 14,
   "id": "80be6a18",
   "metadata": {},
   "outputs": [],
   "source": [
    "clf = make_pipeline(SimpleImputer(), RandomForestRegressor())"
   ]
  },
  {
   "cell_type": "code",
   "execution_count": 15,
   "id": "a49b013e",
   "metadata": {},
   "outputs": [],
   "source": [
    "# Fill columns of task 3 with mean values\n",
    "for i in range(len(cats_task3)):\n",
    "    clf.fit(train_df_task3, labels_df_task3[cats_task3[i]])\n",
    "    probs_task3 = clf.predict(test_df_task3)\n",
    "    predictions[cats_task3[i]] = probs_task3"
   ]
  },
  {
   "cell_type": "code",
   "execution_count": 16,
   "id": "e9f356bf",
   "metadata": {},
   "outputs": [],
   "source": [
    "# Save predictions table as csv file\n",
    "predictions.to_csv(folder + 'solution.csv', float_format='%.3f') # %.3f = first three decimals"
   ]
  }
 ],
 "metadata": {
  "kernelspec": {
   "display_name": "Python 3 (ipykernel)",
   "language": "python",
   "name": "python3"
  },
  "language_info": {
   "codemirror_mode": {
    "name": "ipython",
    "version": 3
   },
   "file_extension": ".py",
   "mimetype": "text/x-python",
   "name": "python",
   "nbconvert_exporter": "python",
   "pygments_lexer": "ipython3",
   "version": "3.9.7"
  }
 },
 "nbformat": 4,
 "nbformat_minor": 5
}
