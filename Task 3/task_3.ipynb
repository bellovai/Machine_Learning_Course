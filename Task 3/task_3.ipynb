{
 "cells": [
  {
   "cell_type": "markdown",
   "id": "f53faad4",
   "metadata": {},
   "source": [
    "# Task 3"
   ]
  },
  {
   "cell_type": "markdown",
   "id": "54e5e898",
   "metadata": {},
   "source": [
    "### Description"
   ]
  },
  {
   "cell_type": "markdown",
   "id": "af5764a7",
   "metadata": {},
   "source": [
    "We used pandas dataframes to import and handle the data. We then preprocessed the data by splitting the various amino acid combinations into 4 different data points and used a One-Hot-Encoder to transform these new categorical data points into a form, which the classifier can actually understand and analyse. If we would have only passed the raw data (i.e. by transforming the respective characters into integers ranging from 1 to 21), the classifier would assume, that the data is continuous and fit a wrong model. For the classification itself, we used a Multi-Layer-Perceptron."
   ]
  },
  {
   "cell_type": "markdown",
   "id": "757d3f5a",
   "metadata": {},
   "source": [
    "### Main"
   ]
  },
  {
   "cell_type": "code",
   "execution_count": 1,
   "id": "fc3a211c",
   "metadata": {},
   "outputs": [],
   "source": [
    "import pandas as pd\n",
    "import numpy as np\n",
    "from sklearn.preprocessing import OneHotEncoder\n",
    "from sklearn.neural_network import MLPClassifier"
   ]
  },
  {
   "cell_type": "code",
   "execution_count": 2,
   "id": "d5abc774",
   "metadata": {},
   "outputs": [],
   "source": [
    "pd.set_option('display.max_columns', 100)"
   ]
  },
  {
   "cell_type": "code",
   "execution_count": 3,
   "id": "eb59f770",
   "metadata": {},
   "outputs": [],
   "source": [
    "# Specify location of project folder\n",
    "folder = '/Users/gian-andreagottini/Documents/Coding/Introduction to Machine Learning/Task 3/'"
   ]
  },
  {
   "cell_type": "code",
   "execution_count": 4,
   "id": "57214b2f",
   "metadata": {},
   "outputs": [],
   "source": [
    "# Import data\n",
    "train_data = pd.read_csv(folder + 'train.csv')\n",
    "x_train = pd.DataFrame(data = train_data['Sequence'])\n",
    "y_train = pd.DataFrame(data = train_data['Active'])\n",
    "x_test = pd.read_csv(folder + 'test.csv')"
   ]
  },
  {
   "cell_type": "code",
   "execution_count": 5,
   "id": "0b9b5ebb",
   "metadata": {},
   "outputs": [],
   "source": [
    "# Define function\n",
    "def split(train, test):\n",
    "    proteins_train = []\n",
    "    proteins_test = []\n",
    "    ohe = OneHotEncoder(sparse = False)\n",
    "    \n",
    "    for i in range(train.size):\n",
    "        proteins_train.append(list(train.loc[i, 'Sequence']))\n",
    "    \n",
    "    proteins_train_ohe = ohe.fit_transform(proteins_train)\n",
    "    cats = np.concatenate(ohe.categories_).ravel()\n",
    "    \n",
    "    for i in range(test.size):\n",
    "        proteins_test.append(list(test.loc[i, 'Sequence']))\n",
    "    \n",
    "    proteins_test_ohe = ohe.transform(proteins_test)\n",
    "    \n",
    "    transformed_train = pd.DataFrame(data = proteins_train_ohe, columns = cats)\n",
    "    transformed_test = pd.DataFrame(data = proteins_test_ohe, columns = cats)\n",
    "    \n",
    "    return transformed_train, transformed_test"
   ]
  },
  {
   "cell_type": "code",
   "execution_count": 6,
   "id": "55dc82b3",
   "metadata": {},
   "outputs": [],
   "source": [
    "X_train_split, X_test_split = split(x_train, x_test)"
   ]
  },
  {
   "cell_type": "code",
   "execution_count": 7,
   "id": "04293734",
   "metadata": {},
   "outputs": [
    {
     "name": "stderr",
     "output_type": "stream",
     "text": [
      "/Users/gian-andreagottini/opt/anaconda3/lib/python3.9/site-packages/sklearn/utils/validation.py:63: DataConversionWarning: A column-vector y was passed when a 1d array was expected. Please change the shape of y to (n_samples, ), for example using ravel().\n",
      "  return f(*args, **kwargs)\n"
     ]
    },
    {
     "data": {
      "text/plain": [
       "MLPClassifier(random_state=1)"
      ]
     },
     "execution_count": 7,
     "metadata": {},
     "output_type": "execute_result"
    }
   ],
   "source": [
    "clf = MLPClassifier(random_state = 1)\n",
    "clf.fit(X_train_split, y_train)"
   ]
  },
  {
   "cell_type": "code",
   "execution_count": 8,
   "id": "0d1acf48",
   "metadata": {},
   "outputs": [],
   "source": [
    "y_pred = clf.predict(X_test_split)"
   ]
  },
  {
   "cell_type": "code",
   "execution_count": 9,
   "id": "a937785e",
   "metadata": {},
   "outputs": [],
   "source": [
    "predictions = pd.DataFrame(data = y_pred)"
   ]
  },
  {
   "cell_type": "code",
   "execution_count": 10,
   "id": "2162b5af",
   "metadata": {},
   "outputs": [],
   "source": [
    "predictions.to_csv(folder + 'solution.csv', header = False, index = False)"
   ]
  }
 ],
 "metadata": {
  "kernelspec": {
   "display_name": "Python 3 (ipykernel)",
   "language": "python",
   "name": "python3"
  },
  "language_info": {
   "codemirror_mode": {
    "name": "ipython",
    "version": 3
   },
   "file_extension": ".py",
   "mimetype": "text/x-python",
   "name": "python",
   "nbconvert_exporter": "python",
   "pygments_lexer": "ipython3",
   "version": "3.9.7"
  }
 },
 "nbformat": 4,
 "nbformat_minor": 5
}
