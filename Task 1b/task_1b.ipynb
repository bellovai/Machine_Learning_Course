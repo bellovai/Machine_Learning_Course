{
 "cells": [
  {
   "cell_type": "markdown",
   "id": "5f36b9da",
   "metadata": {},
   "source": [
    "# Task 1b"
   ]
  },
  {
   "cell_type": "markdown",
   "id": "f6cd7c43",
   "metadata": {},
   "source": [
    "### Main"
   ]
  },
  {
   "cell_type": "code",
   "execution_count": 1,
   "id": "7e055876",
   "metadata": {},
   "outputs": [],
   "source": [
    "import pandas as pd\n",
    "import numpy as np\n",
    "from sklearn.linear_model import LinearRegression\n",
    "from sklearn.metrics import mean_squared_error"
   ]
  },
  {
   "cell_type": "code",
   "execution_count": 2,
   "id": "66670303",
   "metadata": {},
   "outputs": [],
   "source": [
    "# set_option = set the value (100) of a single option (display.max_columns)\n",
    "# display.max_columns = how many columns get displayed at most\n",
    "pd.set_option('display.max_columns', 100)"
   ]
  },
  {
   "cell_type": "code",
   "execution_count": 3,
   "id": "ab4978d4",
   "metadata": {},
   "outputs": [],
   "source": [
    "# Fill in your local file path to 'train.csv'\n",
    "file_path = '/Users/gian-andreagottini/Documents/Coding/Introduction to Machine Learning/Task 1b/train.csv'"
   ]
  },
  {
   "cell_type": "code",
   "execution_count": 4,
   "id": "0c7e9326",
   "metadata": {},
   "outputs": [],
   "source": [
    "# Pandas automatically creates an index which numerates rows from 0 to n\n",
    "# Our csv file already has an index column named 'Id'\n",
    "# Whitout .set_index('Id') there would be one index 'Id' from the csv file and one from pd\n",
    "# .set_index('column_name') sets the respective column as the index of the table\n",
    "train = pd.read_csv(file_path).set_index('Id')"
   ]
  },
  {
   "cell_type": "code",
   "execution_count": 5,
   "id": "d009aaaa",
   "metadata": {},
   "outputs": [],
   "source": [
    "# Define features X_train and target y_train\n",
    "X_train = train[['x1', 'x2', 'x3', 'x4', 'x5']]\n",
    "y_train = train['y']"
   ]
  },
  {
   "cell_type": "code",
   "execution_count": 6,
   "id": "621f08a8",
   "metadata": {},
   "outputs": [],
   "source": [
    "phi_train = pd.DataFrame()\n",
    "\n",
    "phi_train[['phi1', 'phi2', 'phi3', 'phi4', 'phi5']] = X_train\n",
    "phi_train[['phi6', 'phi7', 'phi8', 'phi9', 'phi10']] = X_train**2\n",
    "phi_train[['phi11', 'phi12', 'phi13', 'phi14', 'phi15']] = np.exp(X_train)\n",
    "phi_train[['phi16', 'phi17', 'phi18', 'phi19', 'phi20']] = np.cos(X_train)\n",
    "phi_train['phi21'] = 1"
   ]
  },
  {
   "cell_type": "code",
   "execution_count": 7,
   "id": "7098694b",
   "metadata": {},
   "outputs": [],
   "source": [
    "# Train model\n",
    "model = LinearRegression().fit(phi_train, y_train)\n",
    "y_pred = model.predict(phi_train)"
   ]
  },
  {
   "cell_type": "code",
   "execution_count": 8,
   "id": "db36ff50",
   "metadata": {},
   "outputs": [],
   "source": [
    "# coef_ = estimated coefficients for the linear regression problem\n",
    "# But it is only an estimation which is why it can't handle the bias term phi20\n",
    "# coef_ sets weights[20] to 0 which canceles the bias term\n",
    "# That's why weights[20] is treated separately with intercept_\n",
    "weights = model.coef_\n",
    "\n",
    "# intercept_ = independent term in the linear model (coef_ for biases)\n",
    "weights[20] = model.intercept_"
   ]
  },
  {
   "cell_type": "code",
   "execution_count": 9,
   "id": "f9242f20",
   "metadata": {},
   "outputs": [],
   "source": [
    "# Calculate RMSE between actual mean and results from model\n",
    "RMSE = mean_squared_error(y_train, y_pred)**0.5"
   ]
  },
  {
   "cell_type": "code",
   "execution_count": 10,
   "id": "ad646116",
   "metadata": {},
   "outputs": [],
   "source": [
    "# Save solutions as csv file\n",
    "solution = pd.DataFrame(weights)\n",
    "solution.to_csv('/Users/gian-andreagottini/Documents/Coding/Introduction to Machine Learning/Task 1b/solution.csv', index = False, header = False)"
   ]
  }
 ],
 "metadata": {
  "kernelspec": {
   "display_name": "Python 3 (ipykernel)",
   "language": "python",
   "name": "python3"
  },
  "language_info": {
   "codemirror_mode": {
    "name": "ipython",
    "version": 3
   },
   "file_extension": ".py",
   "mimetype": "text/x-python",
   "name": "python",
   "nbconvert_exporter": "python",
   "pygments_lexer": "ipython3",
   "version": "3.9.7"
  }
 },
 "nbformat": 4,
 "nbformat_minor": 5
}
